{
 "cells": [
  {
   "attachments": {},
   "cell_type": "markdown",
   "metadata": {
    "hideCode": true,
    "hidePrompt": true
   },
   "source": [
    "# PGFinder Interactive Notebook\n",
    "\n",
    "This notebook is a basic user interface to allow researchers less familiar with the command line to run PGFinder. Some compromises have been made to make it run as a Jupyter notebook under [JupyterLite](https://github.com/jupyterlite/jupyterlite) hosted on GitHub pages.\n",
    "\n",
    "## IMPORTANT - Clearing Cache\n",
    "\n",
    "This implementation of Notebooks is relatively new and it is important that your browser has loaded the\n",
    "page anew **each and every time you wish to run analyses** so that it does not use a cached version from a previous\n",
    "visit you have made to the site. How you do this will depend on the browser you are using.\n",
    "\n",
    "### Firefox\n",
    "\n",
    "Instructions on clearing the cache for a single site for [Firefox](https://superuser.com/a/733154). Alternatively\n",
    "click on the padlock to the left of the address bar and select `Clear cookies and site data...`. Then refresh the page\n",
    "by pressing `F5`.\n",
    "\n",
    "\n",
    "### Chrome/Chromium\n",
    "\n",
    "Instructions on clearing the cache for a single site for\n",
    "[Chrome/Chromium](https://www.guidingtech.com/clear-chrome-cookies-cache-one-site-only/) are avaiable. The \n",
    "the shortcut of pressing `Shift + F5` may not be sufficient.\n",
    "\n",
    "### Opera\n",
    "\n",
    "Instructions on clearing the cache for a single site for [Opera](https://forums.opera.com/post/229032). Alternatively\n",
    "click on the padlock to the left of the address bar and select `Site settings` then click on the `Clear data`\n",
    "button. Then refresh the page by pressing `F5`.\n",
    "\n",
    "## Running Analysis\n",
    "\n",
    "To run the analysis follow the instructions and select **Kernel > Restart Kernel and Run All Cells**. This will take a\n",
    "little while to run (30-60 seconds) because `pgfinder` and its dependencies are being installed. Once completed you\n",
    "should see some output indicating that parameters have been loaded and buttons and menus should appear under each of the\n",
    "**Step N** headings as shown in the image below. Work through each cell uploading your input then click on **Run Analysis** at the end.\n",
    "\n",
    "For more detailed information please refer to the [Usage](https://mesnage-org.github.io/pgfinder) documentation.\n",
    "\n",
    "If you have any problems or suggestions, or would like to contribute a mass database, please raise an [issue here](https://github.com/Mesnage-Org/pgfinder/issues). This notebook runs on the latest release. Please review the [release notes](https://github.com/Mesnage-Org/pgfinder/releases).\n",
    "\n",
    "## Testing pre-release candidates\n",
    "\n",
    "If a development version with new features is available for testing you can test it in the Notebook by explicitly stating the version of `pgfinder` that should be used. To do this a pre-release candidate will need to be released to PyPI (see [Contributing](https://mesnage-org.github.io/pgfinder/contributing.md)) and you will need to know the full version including the pre-release suffix (see the [Release History](https://pypi.org/project/pgfinder/#history)) . You then append this version to the `%pip install pgfinder` command in the first code cell.\n",
    "\n",
    "Clear the cache for the site and reload it and start a fresh instance of the Notebook, but before restarting the kernel you need to modify the version of PGFinder that is installed explicitly under **Step 0 : Install and Setup PGFinder**.\n",
    "\n",
    "Code cells are hidden by default in the Notebooks, to expand them click on the **first** set of three dots and you will\n",
    "see a Notebook cell with the line `%pip install pgfinder` in it. If the release candidate is `v0.0.4-a5` then append\n",
    "(without the leading `v`) to the install command separating with `==`, i.e. `%pip install pgfinder==0.0.4-a5`.\n",
    "\n",
    "You can now  _Kernel > Restart Kernel and Run All Cells_ and the features in the candidate release will be run.\n"
   ]
  },
  {
   "attachments": {},
   "cell_type": "markdown",
   "metadata": {},
   "source": [
    "## Step 0 : Install and Setup PGFinder"
   ]
  },
  {
   "cell_type": "code",
   "execution_count": null,
   "metadata": {
    "jupyter": {
     "outputs_hidden": true,
     "source_hidden": true
    }
   },
   "outputs": [],
   "source": [
    "\n",
    "%pip install pgfinder==0.0.3"
   ]
  },
  {
   "cell_type": "code",
   "execution_count": null,
   "metadata": {
    "hideCode": true,
    "hidePrompt": true,
    "jupyter": {
     "source_hidden": true
    }
   },
   "outputs": [],
   "source": [
    "\n",
    "import base64\n",
    "import codecs\n",
    "import io\n",
    "import os\n",
    "import uuid\n",
    "import ipywidgets as widgets\n",
    "from ipywidgets import HTML\n",
    "from IPython.display import display\n",
    "from ipysheet import from_dataframe\n",
    "import pandas as pd\n",
    "\n",
    "from pgfinder import matching, pgio, validation\n",
    "\n",
    "# Get list of modifications\n",
    "allowed_mods = validation.allowed_modifications()\n",
    "\n",
    "# Get built in mass lists\n",
    "mass_lists_path = \"./data/masses\"\n",
    "mass_lists = os.listdir(mass_lists_path)\n",
    "mass_lists.append(\"Upload Custom\")\n",
    "\n",
    "\n",
    "def generate_html_button(df: pd.DataFrame, wide: str = True):\n",
    "    \"\"\"Make a download button for data\n",
    "\n",
    "    Parameters\n",
    "    ==========\n",
    "    df: pd.DataFrame\n",
    "        Dataframe to be downloaded\n",
    "    wide: bool\n",
    "        Boolean indicating if data should be reshaped to wide.\n",
    "    \"\"\"\n",
    "    results_csv = df.to_csv()\n",
    "    filename = pgio.default_filename()\n",
    "    results_csv_str = pgio.dataframe_to_csv_metadata(output_dataframe=df, wide=wide)\n",
    "    b64 = base64.b64encode(results_csv_str.encode())\n",
    "    payload = b64.decode()\n",
    "\n",
    "    button_text = \"Results\" if wide else \"Results (Long)\"\n",
    "    html_buttons = \"\"\"<html>\n",
    "    <head>\n",
    "    <meta name=\"viewport\" content=\"width=device-width, initial-scale=1\">\n",
    "    </head>\n",
    "    <body>\n",
    "    <a download=\"{filename}\" href=\"data:text/csv;base64,{payload}\" download>\n",
    "    <button class=\"p-Widget jupyter-widgets jupyter-button widget-button mod-warning\">{button_text}</button>\n",
    "    </a>\n",
    "    </body>\n",
    "    </html>\n",
    "    \"\"\"\n",
    "    html_button = html_buttons.format(payload=payload, filename=filename, button_text=button_text)\n",
    "    return html_button\n",
    "\n",
    "\n",
    "# Main analysis function\n",
    "def analysis(b):\n",
    "    # Upload deconvoluted file\n",
    "    # This widget returns a dictionary of details of uploaded files\n",
    "    # However, the widget is restricted to allow only one file\n",
    "    # Hence `.value[0]`\n",
    "    uploaded_df = pgio.ms_upload_reader(data_uploader.children[0].value[0])\n",
    "\n",
    "    # Load mass list\n",
    "    if rb_masses.value == \"Upload Custom\":\n",
    "        theo_masses = pgio.theo_masses_upload_reader(mass_uploader.children[0].value[0])\n",
    "    else:\n",
    "        csv_filepath = os.path.join(mass_lists_path, rb_masses.value)\n",
    "        theo_masses = pgio.theo_masses_reader(csv_filepath)\n",
    "\n",
    "    # Load ppm value\n",
    "    user_ppm = ppm_tol.value\n",
    "\n",
    "    # Load time delta value\n",
    "    user_time_delta = time_delta.value\n",
    "\n",
    "    # Make sure mod list is a list\n",
    "    mod_list = list(selector_mods.value)\n",
    "\n",
    "    results = matching.data_analysis(uploaded_df, theo_masses, user_time_delta, mod_list, user_ppm)\n",
    "    if \"index\" in results.columns:\n",
    "        results.drop(columns=[\"index\"], inplace=True)\n",
    "\n",
    "    # Make download buttons returning as HTML.\n",
    "    html_button_wide = generate_html_button(df=results, wide=True)\n",
    "    return HTML(html_button_wide)\n",
    "\n",
    "# Define widgets\n",
    "\n",
    "\n",
    "# A composite widget for picking a file and displaying its name\n",
    "def named_file_upload(accept, description):\n",
    "    file_upload = widgets.FileUpload(accept=accept, description=description, multiple=False, layout=big_button)\n",
    "    file_name = widgets.Label(value=\"No file selected...\")\n",
    "\n",
    "    def handle_file_upload(file):\n",
    "        file_name.value = file[\"new\"][0][\"name\"]\n",
    "\n",
    "    file_upload.observe(handle_file_upload, names=\"value\")\n",
    "    return widgets.HBox([file_upload, file_name])\n",
    "\n",
    "\n",
    "# Layout for a bigger button\n",
    "big_button = widgets.Layout(width=\"auto\")\n",
    "\n",
    "# Style for wider description\n",
    "wide_style = {\"description_width\": \"initial\"}\n",
    "\n",
    "# Deconvoluted Data file upload\n",
    "data_uploader = named_file_upload(\".txt,.ftrs\", \"Upload Deconvoluted Data\")\n",
    "\n",
    "# Modifcation selector\n",
    "selector_mods = widgets.SelectMultiple(options=allowed_mods, description=\"Modification\", disabled=False)\n",
    "\n",
    "# Mass library selector\n",
    "rb_masses = widgets.RadioButtons(options=mass_lists, description=\"Mass List\", disabled=False)\n",
    "\n",
    "# Mass library file upload\n",
    "mass_uploader = named_file_upload(\".csv\", \"Upload Mass Library\")\n",
    "\n",
    "# Set PPM tolerance\n",
    "ppm_tol = widgets.BoundedFloatText(\n",
    "    value=10.0, min=1, max=100, step=0.1, description=\"Set ppm tolerance\", disabled=False, style=wide_style\n",
    ")\n",
    "\n",
    "# Set time delta for in source clean up\n",
    "time_delta = widgets.BoundedFloatText(\n",
    "    value=0.5, min=0, max=100, step=0.01, description=\"Set time delta value\", disabled=False, style=wide_style\n",
    ")\n",
    "\n",
    "# Analysis button\n",
    "# button = widgets.Button(description=\"Run Analysis\")\n",
    "# button.on_click(analysis)\n",
    "\n",
    "# Make a switch button that runs analysis then provides a download button on completion\n",
    "run_analysis = widgets.Output()\n",
    "\n",
    "run_analysis_button = widgets.Button(description=\"Run Analysis\")\n",
    "\n",
    "with run_analysis:\n",
    "    display(run_analysis_button)\n",
    "\n",
    "def switchMode(x):\n",
    "    run_analysis.clear_output()\n",
    "    with run_analysis:\n",
    "        # results = analysis(b=1)\n",
    "        # display(generate_html_button(df=results, wide=True))\n",
    "        display(analysis(b=None))\n",
    "run_analysis_button.on_click(switchMode)"
   ]
  },
  {
   "attachments": {},
   "cell_type": "markdown",
   "metadata": {},
   "source": [
    "\n",
    "\n",
    "## Step 1: Upload Deconvoluted Data\n",
    "Click *Upload* to upload a `.txt` file output by MaxQuant ([example file](https://github.com/Mesnage-Org/pgfinder/raw/master/data/maxquant_test_data.txt)), or an `.ftrs` file."
   ]
  },
  {
   "cell_type": "code",
   "execution_count": null,
   "metadata": {
    "hideCode": true,
    "hidePrompt": true,
    "jupyter": {
     "source_hidden": true
    }
   },
   "outputs": [],
   "source": [
    "\n",
    "display(data_uploader)"
   ]
  },
  {
   "attachments": {},
   "cell_type": "markdown",
   "metadata": {
    "hideCode": true,
    "hidePrompt": true
   },
   "source": [
    "## Step 2: Select Modifications\n",
    "Select modifications (Hold down control / command and click to select mulitple items.)"
   ]
  },
  {
   "cell_type": "code",
   "execution_count": null,
   "metadata": {
    "hideCode": true,
    "hidePrompt": true,
    "jupyter": {
     "source_hidden": true
    }
   },
   "outputs": [],
   "source": [
    "\n",
    "display(selector_mods)"
   ]
  },
  {
   "attachments": {},
   "cell_type": "markdown",
   "metadata": {
    "hideCode": true,
    "hidePrompt": true
   },
   "source": [
    "## Step 3: Select or Upload Mass Library"
   ]
  },
  {
   "attachments": {},
   "cell_type": "markdown",
   "metadata": {
    "hideCode": true,
    "hidePrompt": true
   },
   "source": [
    "### Select"
   ]
  },
  {
   "cell_type": "code",
   "execution_count": null,
   "metadata": {
    "hideCode": true,
    "hidePrompt": true,
    "jupyter": {
     "source_hidden": true
    }
   },
   "outputs": [],
   "source": [
    "\n",
    "display(rb_masses)"
   ]
  },
  {
   "attachments": {},
   "cell_type": "markdown",
   "metadata": {
    "hideCode": true,
    "hidePrompt": true
   },
   "source": [
    "### (Optional) Upload Custom Mass Library\n",
    "[Example mass library file.](https://raw.githubusercontent.com/Mesnage-Org/pgfinder/master/data/masses/e_coli_monomer_masses.csv)"
   ]
  },
  {
   "cell_type": "code",
   "execution_count": null,
   "metadata": {
    "hideCode": true,
    "hidePrompt": true,
    "jupyter": {
     "source_hidden": true
    }
   },
   "outputs": [],
   "source": [
    "\n",
    "display(mass_uploader)"
   ]
  },
  {
   "attachments": {},
   "cell_type": "markdown",
   "metadata": {
    "hideCode": true,
    "hidePrompt": true
   },
   "source": [
    "## Step 4: Set PPM tolerance"
   ]
  },
  {
   "cell_type": "code",
   "execution_count": null,
   "metadata": {
    "hideCode": true,
    "hidePrompt": true,
    "jupyter": {
     "source_hidden": true
    }
   },
   "outputs": [],
   "source": [
    "\n",
    "display(ppm_tol)"
   ]
  },
  {
   "attachments": {},
   "cell_type": "markdown",
   "metadata": {
    "hideCode": true,
    "hidePrompt": true
   },
   "source": [
    "## Step 5: Set time window for in-source decay and salt adduct clean up"
   ]
  },
  {
   "cell_type": "code",
   "execution_count": null,
   "metadata": {
    "hideCode": true,
    "hidePrompt": true,
    "jupyter": {
     "source_hidden": true
    }
   },
   "outputs": [],
   "source": [
    "\n",
    "display(time_delta)"
   ]
  },
  {
   "attachments": {},
   "cell_type": "markdown",
   "metadata": {
    "hideCode": true,
    "hidePrompt": true
   },
   "source": [
    "## Step 6: Run Analysis\n",
    "Click run analysis.\n",
    "After the analysis is complete, two download buttons will appear allowing you to downloade the data in \"wide\" or \"long\" format."
   ]
  },
  {
   "cell_type": "code",
   "execution_count": null,
   "metadata": {
    "hideCode": true,
    "hidePrompt": true,
    "jupyter": {
     "source_hidden": true
    }
   },
   "outputs": [],
   "source": [
    "\n",
    "run_analysis"
   ]
  }
 ],
 "metadata": {
  "hide_code_all_hidden": true,
  "kernelspec": {
   "display_name": "Python 3 (ipykernel)",
   "language": "python",
   "name": "python3"
  },
  "language_info": {
   "codemirror_mode": {
    "name": "ipython",
    "version": 3
   },
   "file_extension": ".py",
   "mimetype": "text/x-python",
   "name": "python",
   "nbconvert_exporter": "python",
   "pygments_lexer": "ipython3",
   "version": "3.11.3"
  }
 },
 "nbformat": 4,
 "nbformat_minor": 4
}
