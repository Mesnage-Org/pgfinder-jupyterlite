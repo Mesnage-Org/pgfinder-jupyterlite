{
 "cells": [
  {
   "cell_type": "markdown",
   "metadata": {
    "hideCode": true,
    "hidePrompt": true
   },
   "source": [
    "# PGFinder Interactive Notebook\n",
    "\n",
    "This notebook is a basic user interface to allow researchers less familiar with the command line to run PGFinder. Some compromises have been made to make it run as a Jupyter notebook on the free myBinder platform.\n",
    "\n",
    "To use the code to analyse your data you must work from top to bottom on this notebook, following instructions as you go. The first step is to execute all of the \"cells\" in the notebook so they are ready for your input. To do this...\n",
    "\n",
    "**Click *Kernel*>*Restart & Run All* on the menu, above.**\n",
    "\n",
    "If you have any problems or suggestions, or would like to contribute a mass database, please raise an [issue here](https://github.com/Mesnage-Org/pgfinder/issues). This notebook runs on the latest release. Please review the [release notes](https://github.com/Mesnage-Org/pgfinder/releases)."
   ]
  },
  {
   "cell_type": "code",
   "execution_count": 1,
   "metadata": {
    "hideCode": true,
    "hidePrompt": true
   },
   "outputs": [
    {
     "name": "stdout",
     "output_type": "stream",
     "text": [
      "[Tue, 25 Apr 2023 12:38:05] [INFO    ] [pgfinder] Loaded parameters from file : config/parameters.yaml\n",
      "[Tue, 25 Apr 2023 12:38:05] [INFO    ] [pgfinder] All parameters converted to decimal\n"
     ]
    }
   ],
   "source": [
    "import base64\n",
    "import codecs\n",
    "import io\n",
    "import os\n",
    "import uuid\n",
    "import ipywidgets as widgets\n",
    "from ipywidgets import HTML\n",
    "from IPython.display import display\n",
    "from ipysheet import from_dataframe\n",
    "import pandas as pd\n",
    "\n",
    "from pgfinder import matching, pgio, validation\n",
    "\n",
    "# Get list of modifications\n",
    "allowed_mods = validation.allowed_modifications()\n",
    "\n",
    "# Get built in mass lists\n",
    "mass_lists_path = './data/masses'\n",
    "mass_lists = os.listdir(mass_lists_path)\n",
    "mass_lists.append('Upload Custom')\n",
    "\n",
    "# Main analysis function\n",
    "def analysis(b):\n",
    "    # Upload deconvoluted file\n",
    "    # This widget returns a dictionary of details of uploaded files\n",
    "    # However, the widget is restricted to allow only one file\n",
    "    # Hence `.value[0]`\n",
    "    print(f\"~#~#~#~#~#~#~#~#~#~# data_uploader :\\n{data_uploader}\")\n",
    "    print(f\"~#~#~#~#~#~#~#~#~#~# data_uploader.children :\\n{data_uploader.children}\")\n",
    "    print(f\"~#~#~#~#~#~#~#~#~#~# data_uploader.children[0] :\\n{data_uploader.children[0]}\")\n",
    "    print(f\"~#~#~#~#~#~#~#~#~#~# data_uploader.children[0].value :\\n{data_uploader.children[0].value}\")\n",
    "    print(f\"~#~#~#~#~#~#~#~#~#~# data_uploader.children[0].value[0] :\\n{data_uploader.children[0].value[0]}\")\n",
    "    \n",
    "    uploaded_df = pgio.ms_upload_reader(data_uploader.children[0].value[0])\n",
    "    \n",
    "    # Load mass list\n",
    "    if rb_masses.value == 'Upload Custom':\n",
    "        theo_masses = pgio.theo_masses_upload_reader(mass_uploader.children[0].value[0])\n",
    "    else:\n",
    "        csv_filepath = os.path.join(mass_lists_path, rb_masses.value)\n",
    "        theo_masses = pgio.theo_masses_reader(csv_filepath)\n",
    "\n",
    "    # Load ppm value\n",
    "    user_ppm = ppm_tol.value\n",
    "\n",
    "    # Load time delta value\n",
    "    user_time_delta = time_delta.value\n",
    "\n",
    "    # Make sure mod list is a list\n",
    "    mod_list = list(selector_mods.value)\n",
    "    \n",
    "    results = matching.data_analysis(uploaded_df, theo_masses, user_time_delta, mod_list, user_ppm)\n",
    "    \n",
    "    # Make the download button\n",
    "    results_csv_str = results.to_csv()\n",
    "    filename = pgio.default_filename()\n",
    "    results_csv_str = pgio.dataframe_to_csv_metadata(output_dataframe=results)\n",
    "    b64 = base64.b64encode(results_csv_str.encode())\n",
    "    payload = b64.decode()\n",
    "\n",
    "    html_buttons = '''<html>\n",
    "    <head>\n",
    "    <meta name=\"viewport\" content=\"width=device-width, initial-scale=1\">\n",
    "    </head>\n",
    "    <body>\n",
    "    <a download=\"{filename}\" href=\"data:text/csv;base64,{payload}\" download>\n",
    "    <button class=\"p-Widget jupyter-widgets jupyter-button widget-button mod-warning\">Download File</button>\n",
    "    </a>\n",
    "    </body>\n",
    "    </html>\n",
    "    '''\n",
    "\n",
    "    html_button = html_buttons.format(payload=payload,filename=filename)\n",
    "    display(HTML(html_button))\n",
    "    \n",
    "# Define widgets\n",
    "\n",
    "# A composite widget for picking a file and displaying its name\n",
    "def named_file_upload(accept, description):\n",
    "    file_upload = widgets.FileUpload(\n",
    "        accept = accept, \n",
    "        description = description,\n",
    "        multiple = False,\n",
    "        layout = big_button\n",
    "    )\n",
    "    file_name = widgets.Label(value=\"No file selected...\")\n",
    "    def handle_file_upload(file):\n",
    "        file_name.value = file[\"new\"][0][\"name\"]\n",
    "    file_upload.observe(handle_file_upload, names='value')\n",
    "    return widgets.HBox([file_upload, file_name])\n",
    "\n",
    "# Layout for a bigger button\n",
    "big_button = widgets.Layout(width='auto')\n",
    "\n",
    "# Style for wider description\n",
    "wide_style = {'description_width': 'initial'}\n",
    "\n",
    "# Deconvoluted Data file upload\n",
    "data_uploader = named_file_upload('.txt,.ftrs', 'Upload Deconvoluted Data')\n",
    "\n",
    "# Modifcation selector\n",
    "selector_mods = widgets.SelectMultiple(\n",
    "    options = allowed_mods,\n",
    "    description = 'Modification',\n",
    "    disabled = False\n",
    ")\n",
    "\n",
    "# Mass library selector\n",
    "rb_masses = widgets.RadioButtons(\n",
    "    options = mass_lists,\n",
    "    description = 'Mass List',\n",
    "    disabled = False\n",
    ")\n",
    "\n",
    "# Mass library file upload\n",
    "mass_uploader = named_file_upload('.csv', 'Upload Mass Library')\n",
    "\n",
    "# Set PPM tolerance\n",
    "ppm_tol = widgets.BoundedFloatText(\n",
    "    value = 10.0,\n",
    "    min = 1,\n",
    "    max = 100,\n",
    "    step = 0.1,\n",
    "    description = 'Set ppm tolerance',\n",
    "    disabled = False,\n",
    "    style = wide_style\n",
    "    )\n",
    "\n",
    "# Set time delta for in source clean up\n",
    "time_delta = widgets.BoundedFloatText(\n",
    "    value = 0.5,\n",
    "    min = 0,\n",
    "    max = 100,\n",
    "    step = 0.01,\n",
    "    description = 'Set time delta value',\n",
    "    disabled = False,\n",
    "    style = wide_style\n",
    ")\n",
    "\n",
    "# Analysis button\n",
    "button = widgets.Button(description=\"Run Analysis\")\n",
    "button.on_click(analysis)"
   ]
  },
  {
   "cell_type": "markdown",
   "metadata": {
    "hideCode": true,
    "hidePrompt": true
   },
   "source": [
    "## Step 1: Upload Deconvoluted Data\n",
    "Click *Upload* to upload a `.txt` file output by MaxQuant ([example file](https://github.com/Mesnage-Org/pgfinder/raw/master/data/maxquant_test_data.txt)), or an `.ftrs` file."
   ]
  },
  {
   "cell_type": "code",
   "execution_count": null,
   "metadata": {},
   "outputs": [],
   "source": [
    "str(\"something.txt\")"
   ]
  },
  {
   "cell_type": "code",
   "execution_count": 2,
   "metadata": {
    "hideCode": true,
    "hidePrompt": true
   },
   "outputs": [
    {
     "data": {
      "application/vnd.jupyter.widget-view+json": {
       "model_id": "0d03449de242468b898c9a33a68ebb43",
       "version_major": 2,
       "version_minor": 0
      },
      "text/plain": [
       "HBox(children=(FileUpload(value=(), accept='.txt,.ftrs', description='Upload Deconvoluted Data', layout=Layout…"
      ]
     },
     "metadata": {},
     "output_type": "display_data"
    }
   ],
   "source": [
    "display(data_uploader)"
   ]
  },
  {
   "cell_type": "markdown",
   "metadata": {
    "hideCode": true,
    "hidePrompt": true
   },
   "source": [
    "## Step 2: Select Modifications\n",
    "Select modifications (Hold down control / command and click to select mulitple items.)"
   ]
  },
  {
   "cell_type": "code",
   "execution_count": 3,
   "metadata": {
    "hideCode": true,
    "hidePrompt": true
   },
   "outputs": [
    {
     "data": {
      "application/vnd.jupyter.widget-view+json": {
       "model_id": "64c67728bcd04cbd887cf1504b038e2c",
       "version_major": 2,
       "version_minor": 0
      },
      "text/plain": [
       "SelectMultiple(description='Modification', options=('Sodium', 'Potassium', 'Anh', 'DeAc', 'DeAc_Anh', 'Nude', …"
      ]
     },
     "metadata": {},
     "output_type": "display_data"
    }
   ],
   "source": [
    "display(selector_mods) "
   ]
  },
  {
   "cell_type": "markdown",
   "metadata": {
    "hideCode": true,
    "hidePrompt": true
   },
   "source": [
    "## Step 3: Select or Upload Mass Library"
   ]
  },
  {
   "cell_type": "markdown",
   "metadata": {
    "hideCode": true,
    "hidePrompt": true
   },
   "source": [
    "### Select"
   ]
  },
  {
   "cell_type": "code",
   "execution_count": 4,
   "metadata": {
    "hideCode": true,
    "hidePrompt": true
   },
   "outputs": [
    {
     "data": {
      "application/vnd.jupyter.widget-view+json": {
       "model_id": "d34d77e7bcd44ab1822c73f58a2cf2bd",
       "version_major": 2,
       "version_minor": 0
      },
      "text/plain": [
       "RadioButtons(description='Mass List', options=('e_coli_monomer_masses.csv', 'c_diff_monomer_masses.csv', 'Uplo…"
      ]
     },
     "metadata": {},
     "output_type": "display_data"
    }
   ],
   "source": [
    "display(rb_masses)"
   ]
  },
  {
   "cell_type": "markdown",
   "metadata": {
    "hideCode": true,
    "hidePrompt": true
   },
   "source": [
    "### (Optional) Upload Custom Mass Library\n",
    "[Example mass library file.](https://raw.githubusercontent.com/Mesnage-Org/pgfinder/master/data/masses/e_coli_monomer_masses.csv)"
   ]
  },
  {
   "cell_type": "code",
   "execution_count": 5,
   "metadata": {
    "hideCode": true,
    "hidePrompt": true
   },
   "outputs": [
    {
     "data": {
      "application/vnd.jupyter.widget-view+json": {
       "model_id": "4fef36a7afc34dd0bd7803df38ba01c7",
       "version_major": 2,
       "version_minor": 0
      },
      "text/plain": [
       "HBox(children=(FileUpload(value=(), accept='.csv', description='Upload Mass Library', layout=Layout(width='aut…"
      ]
     },
     "metadata": {},
     "output_type": "display_data"
    }
   ],
   "source": [
    "display(mass_uploader)"
   ]
  },
  {
   "cell_type": "markdown",
   "metadata": {
    "hideCode": true,
    "hidePrompt": true
   },
   "source": [
    "## Step 4: Set PPM tolerance"
   ]
  },
  {
   "cell_type": "code",
   "execution_count": 6,
   "metadata": {
    "hideCode": true,
    "hidePrompt": true
   },
   "outputs": [
    {
     "data": {
      "application/vnd.jupyter.widget-view+json": {
       "model_id": "efb2fb666dcf4397b6b8994b54f2e4f0",
       "version_major": 2,
       "version_minor": 0
      },
      "text/plain": [
       "BoundedFloatText(value=10.0, description='Set ppm tolerance', min=1.0, step=0.1, style=DescriptionStyle(descri…"
      ]
     },
     "metadata": {},
     "output_type": "display_data"
    }
   ],
   "source": [
    "display(ppm_tol)"
   ]
  },
  {
   "cell_type": "markdown",
   "metadata": {
    "hideCode": true,
    "hidePrompt": true
   },
   "source": [
    "## Step 5: Set time window for in-source decay and salt adduct clean up"
   ]
  },
  {
   "cell_type": "code",
   "execution_count": 7,
   "metadata": {
    "hideCode": true,
    "hidePrompt": true
   },
   "outputs": [
    {
     "data": {
      "application/vnd.jupyter.widget-view+json": {
       "model_id": "522afb17b395464095df2073f3e2bde7",
       "version_major": 2,
       "version_minor": 0
      },
      "text/plain": [
       "BoundedFloatText(value=0.5, description='Set time delta value', step=0.01, style=DescriptionStyle(description_…"
      ]
     },
     "metadata": {},
     "output_type": "display_data"
    }
   ],
   "source": [
    "display(time_delta)"
   ]
  },
  {
   "cell_type": "markdown",
   "metadata": {
    "hideCode": true,
    "hidePrompt": true
   },
   "source": [
    "## Step 6: Run Analysis\n",
    "Click run analysis.\n",
    "After the analysis is complete, a download button will appear."
   ]
  },
  {
   "cell_type": "code",
   "execution_count": 8,
   "metadata": {
    "hideCode": true,
    "hidePrompt": true
   },
   "outputs": [
    {
     "data": {
      "application/vnd.jupyter.widget-view+json": {
       "model_id": "8cccc178c0b849bfb78eb186a5b7dde2",
       "version_major": 2,
       "version_minor": 0
      },
      "text/plain": [
       "Button(description='Run Analysis', style=ButtonStyle())"
      ]
     },
     "metadata": {},
     "output_type": "display_data"
    },
    {
     "name": "stdout",
     "output_type": "stream",
     "text": [
      "~#~#~#~#~#~#~#~#~#~# data_uploader :\n",
      "HBox(children=(FileUpload(value=({'name': 'WT.ftrs', 'type': '', 'size': 11436032, 'content': <memory at 0x7fb2e18a9840>, 'last_modified': datetime.datetime(2023, 4, 25, 9, 5, 51, 33000, tzinfo=datetime.timezone.utc)},), accept='.txt,.ftrs', description='Upload Deconvoluted Data', layout=Layout(width='auto')), Label(value='WT.ftrs')))\n",
      "~#~#~#~#~#~#~#~#~#~# data_uploader.children :\n",
      "(FileUpload(value=({'name': 'WT.ftrs', 'type': '', 'size': 11436032, 'content': <memory at 0x7fb2e18a9840>, 'last_modified': datetime.datetime(2023, 4, 25, 9, 5, 51, 33000, tzinfo=datetime.timezone.utc)},), accept='.txt,.ftrs', description='Upload Deconvoluted Data', layout=Layout(width='auto')), Label(value='WT.ftrs'))\n",
      "~#~#~#~#~#~#~#~#~#~# data_uploader.children[0] :\n",
      "FileUpload(value=({'name': 'WT.ftrs', 'type': '', 'size': 11436032, 'content': <memory at 0x7fb2e18a9840>, 'last_modified': datetime.datetime(2023, 4, 25, 9, 5, 51, 33000, tzinfo=datetime.timezone.utc)},), accept='.txt,.ftrs', description='Upload Deconvoluted Data', layout=Layout(width='auto'))\n",
      "~#~#~#~#~#~#~#~#~#~# data_uploader.children[0].value :\n",
      "({'name': 'WT.ftrs', 'type': '', 'size': 11436032, 'content': <memory at 0x7fb2e18a9840>, 'last_modified': datetime.datetime(2023, 4, 25, 9, 5, 51, 33000, tzinfo=datetime.timezone.utc)},)\n",
      "~#~#~#~#~#~#~#~#~#~# data_uploader.children[0].value[0] :\n",
      "{'name': 'WT.ftrs', 'type': '', 'size': 11436032, 'content': <memory at 0x7fb2e18a9840>, 'last_modified': datetime.datetime(2023, 4, 25, 9, 5, 51, 33000, tzinfo=datetime.timezone.utc)}\n",
      "[Tue, 25 Apr 2023 12:38:15] [INFO    ] [pgfinder] Theoretical masses loaded from      : ./data/masses/e_coli_monomer_masses.csv\n",
      "[Tue, 25 Apr 2023 12:38:15] [INFO    ] [pgfinder] Filtering theoretical masses by observed masses\n",
      "[Tue, 25 Apr 2023 12:38:15] [INFO    ] [pgfinder] Building custom search file\n",
      "[Tue, 25 Apr 2023 12:38:15] [INFO    ] [pgfinder] Generating variants\n",
      "[Tue, 25 Apr 2023 12:38:15] [INFO    ] [pgfinder] Matching\n",
      "[Tue, 25 Apr 2023 12:38:16] [INFO    ] [pgfinder] Cleaning data\n",
      "[Tue, 25 Apr 2023 12:38:16] [INFO    ] [pgfinder] No ^Na+ found\n",
      "[Tue, 25 Apr 2023 12:38:16] [INFO    ] [pgfinder] No ^K+ found\n",
      "[Tue, 25 Apr 2023 12:38:16] [INFO    ] [pgfinder] No ^m found\n"
     ]
    },
    {
     "data": {
      "application/vnd.jupyter.widget-view+json": {
       "model_id": "f8eba1712ddf4e5e98795b1c82c11df3",
       "version_major": 2,
       "version_minor": 0
      },
      "text/plain": [
       "HTML(value='<html>\\n    <head>\\n    <meta name=\"viewport\" content=\"width=device-width, initial-scale=1\">\\n    …"
      ]
     },
     "metadata": {},
     "output_type": "display_data"
    },
    {
     "name": "stdout",
     "output_type": "stream",
     "text": [
      "~#~#~#~#~#~#~#~#~#~# data_uploader :\n",
      "HBox(children=(FileUpload(value=({'name': 'features_2023-04-25.txt', 'type': 'text/plain', 'size': 853143, 'content': <memory at 0x7fb2e18aa080>, 'last_modified': datetime.datetime(2023, 4, 25, 12, 5, 37, 427000, tzinfo=datetime.timezone.utc)},), accept='.txt,.ftrs', description='Upload Deconvoluted Data', layout=Layout(width='auto')), Label(value='features_2023-04-25.txt')))\n",
      "~#~#~#~#~#~#~#~#~#~# data_uploader.children :\n",
      "(FileUpload(value=({'name': 'features_2023-04-25.txt', 'type': 'text/plain', 'size': 853143, 'content': <memory at 0x7fb2e18aa080>, 'last_modified': datetime.datetime(2023, 4, 25, 12, 5, 37, 427000, tzinfo=datetime.timezone.utc)},), accept='.txt,.ftrs', description='Upload Deconvoluted Data', layout=Layout(width='auto')), Label(value='features_2023-04-25.txt'))\n",
      "~#~#~#~#~#~#~#~#~#~# data_uploader.children[0] :\n",
      "FileUpload(value=({'name': 'features_2023-04-25.txt', 'type': 'text/plain', 'size': 853143, 'content': <memory at 0x7fb2e18aa080>, 'last_modified': datetime.datetime(2023, 4, 25, 12, 5, 37, 427000, tzinfo=datetime.timezone.utc)},), accept='.txt,.ftrs', description='Upload Deconvoluted Data', layout=Layout(width='auto'))\n",
      "~#~#~#~#~#~#~#~#~#~# data_uploader.children[0].value :\n",
      "({'name': 'features_2023-04-25.txt', 'type': 'text/plain', 'size': 853143, 'content': <memory at 0x7fb2e18aa080>, 'last_modified': datetime.datetime(2023, 4, 25, 12, 5, 37, 427000, tzinfo=datetime.timezone.utc)},)\n",
      "~#~#~#~#~#~#~#~#~#~# data_uploader.children[0].value[0] :\n",
      "{'name': 'features_2023-04-25.txt', 'type': 'text/plain', 'size': 853143, 'content': <memory at 0x7fb2e18aa080>, 'last_modified': datetime.datetime(2023, 4, 25, 12, 5, 37, 427000, tzinfo=datetime.timezone.utc)}\n"
     ]
    },
    {
     "ename": "KeyError",
     "evalue": "\"['mwMonoisotopic', 'rt', 'rt_length', 'maxIntensity'] not in index\"",
     "output_type": "error",
     "traceback": [
      "\u001b[0;31m---------------------------------------------------------------------------\u001b[0m",
      "\u001b[0;31mKeyError\u001b[0m                                  Traceback (most recent call last)",
      "Cell \u001b[0;32mIn [1], line 34\u001b[0m, in \u001b[0;36manalysis\u001b[0;34m(b)\u001b[0m\n\u001b[1;32m     31\u001b[0m \u001b[38;5;28mprint\u001b[39m(\u001b[38;5;124mf\u001b[39m\u001b[38;5;124m\"\u001b[39m\u001b[38;5;124m~#~#~#~#~#~#~#~#~#~# data_uploader.children[0].value :\u001b[39m\u001b[38;5;130;01m\\n\u001b[39;00m\u001b[38;5;132;01m{\u001b[39;00mdata_uploader\u001b[38;5;241m.\u001b[39mchildren[\u001b[38;5;241m0\u001b[39m]\u001b[38;5;241m.\u001b[39mvalue\u001b[38;5;132;01m}\u001b[39;00m\u001b[38;5;124m\"\u001b[39m)\n\u001b[1;32m     32\u001b[0m \u001b[38;5;28mprint\u001b[39m(\u001b[38;5;124mf\u001b[39m\u001b[38;5;124m\"\u001b[39m\u001b[38;5;124m~#~#~#~#~#~#~#~#~#~# data_uploader.children[0].value[0] :\u001b[39m\u001b[38;5;130;01m\\n\u001b[39;00m\u001b[38;5;132;01m{\u001b[39;00mdata_uploader\u001b[38;5;241m.\u001b[39mchildren[\u001b[38;5;241m0\u001b[39m]\u001b[38;5;241m.\u001b[39mvalue[\u001b[38;5;241m0\u001b[39m]\u001b[38;5;132;01m}\u001b[39;00m\u001b[38;5;124m\"\u001b[39m)\n\u001b[0;32m---> 34\u001b[0m uploaded_df \u001b[38;5;241m=\u001b[39m \u001b[43mpgio\u001b[49m\u001b[38;5;241;43m.\u001b[39;49m\u001b[43mms_upload_reader\u001b[49m\u001b[43m(\u001b[49m\u001b[43mdata_uploader\u001b[49m\u001b[38;5;241;43m.\u001b[39;49m\u001b[43mchildren\u001b[49m\u001b[43m[\u001b[49m\u001b[38;5;241;43m0\u001b[39;49m\u001b[43m]\u001b[49m\u001b[38;5;241;43m.\u001b[39;49m\u001b[43mvalue\u001b[49m\u001b[43m[\u001b[49m\u001b[38;5;241;43m0\u001b[39;49m\u001b[43m]\u001b[49m\u001b[43m)\u001b[49m\n\u001b[1;32m     36\u001b[0m \u001b[38;5;66;03m# Load mass list\u001b[39;00m\n\u001b[1;32m     37\u001b[0m \u001b[38;5;28;01mif\u001b[39;00m rb_masses\u001b[38;5;241m.\u001b[39mvalue \u001b[38;5;241m==\u001b[39m \u001b[38;5;124m'\u001b[39m\u001b[38;5;124mUpload Custom\u001b[39m\u001b[38;5;124m'\u001b[39m:\n",
      "File \u001b[0;32m~/work/projects/pgfinder/pgfinder/pgio.py:68\u001b[0m, in \u001b[0;36mms_upload_reader\u001b[0;34m(upload)\u001b[0m\n\u001b[1;32m     66\u001b[0m     return_df \u001b[38;5;241m=\u001b[39m ftrs_reader(file)\n\u001b[1;32m     67\u001b[0m \u001b[38;5;28;01melif\u001b[39;00m \u001b[38;5;129;01mnot\u001b[39;00m filename\u001b[38;5;241m.\u001b[39mfind(\u001b[38;5;124m\"\u001b[39m\u001b[38;5;124mtxt\u001b[39m\u001b[38;5;124m\"\u001b[39m) \u001b[38;5;241m==\u001b[39m \u001b[38;5;241m-\u001b[39m\u001b[38;5;241m1\u001b[39m:\n\u001b[0;32m---> 68\u001b[0m     return_df \u001b[38;5;241m=\u001b[39m \u001b[43mmaxquant_file_reader\u001b[49m\u001b[43m(\u001b[49m\u001b[43mfile\u001b[49m\u001b[43m)\u001b[49m\n\u001b[1;32m     69\u001b[0m \u001b[38;5;28;01melse\u001b[39;00m:\n\u001b[1;32m     70\u001b[0m     \u001b[38;5;28;01mraise\u001b[39;00m \u001b[38;5;167;01mValueError\u001b[39;00m(\u001b[38;5;124m\"\u001b[39m\u001b[38;5;124mUnknown file type.\u001b[39m\u001b[38;5;124m\"\u001b[39m)\n",
      "File \u001b[0;32m~/work/projects/pgfinder/pgfinder/pgio.py:211\u001b[0m, in \u001b[0;36mmaxquant_file_reader\u001b[0;34m(file)\u001b[0m\n\u001b[1;32m    200\u001b[0m maxquant_df\u001b[38;5;241m.\u001b[39mrename(\n\u001b[1;32m    201\u001b[0m     columns\u001b[38;5;241m=\u001b[39m{\n\u001b[1;32m    202\u001b[0m         \u001b[38;5;124m\"\u001b[39m\u001b[38;5;124mindex\u001b[39m\u001b[38;5;124m\"\u001b[39m: \u001b[38;5;124m\"\u001b[39m\u001b[38;5;124mID\u001b[39m\u001b[38;5;124m\"\u001b[39m,\n\u001b[0;32m   (...)\u001b[0m\n\u001b[1;32m    208\u001b[0m     inplace\u001b[38;5;241m=\u001b[39m\u001b[38;5;28;01mTrue\u001b[39;00m,\n\u001b[1;32m    209\u001b[0m )\n\u001b[1;32m    210\u001b[0m \u001b[38;5;66;03m# Keeps only essential columns, all extraneous columns are left out.\u001b[39;00m\n\u001b[0;32m--> 211\u001b[0m focused_maxquant_df \u001b[38;5;241m=\u001b[39m \u001b[43mmaxquant_df\u001b[49m\u001b[43m[\u001b[49m\n\u001b[1;32m    212\u001b[0m \u001b[43m    \u001b[49m\u001b[43m[\u001b[49m\n\u001b[1;32m    213\u001b[0m \u001b[43m        \u001b[49m\u001b[38;5;124;43m\"\u001b[39;49m\u001b[38;5;124;43mID\u001b[39;49m\u001b[38;5;124;43m\"\u001b[39;49m\u001b[43m,\u001b[49m\n\u001b[1;32m    214\u001b[0m \u001b[43m        \u001b[49m\u001b[38;5;124;43m\"\u001b[39;49m\u001b[38;5;124;43mmwMonoisotopic\u001b[39;49m\u001b[38;5;124;43m\"\u001b[39;49m\u001b[43m,\u001b[49m\n\u001b[1;32m    215\u001b[0m \u001b[43m        \u001b[49m\u001b[38;5;124;43m\"\u001b[39;49m\u001b[38;5;124;43mrt\u001b[39;49m\u001b[38;5;124;43m\"\u001b[39;49m\u001b[43m,\u001b[49m\n\u001b[1;32m    216\u001b[0m \u001b[43m        \u001b[49m\u001b[38;5;124;43m\"\u001b[39;49m\u001b[38;5;124;43mrt_length\u001b[39;49m\u001b[38;5;124;43m\"\u001b[39;49m\u001b[43m,\u001b[49m\n\u001b[1;32m    217\u001b[0m \u001b[43m        \u001b[49m\u001b[38;5;124;43m\"\u001b[39;49m\u001b[38;5;124;43mmaxIntensity\u001b[39;49m\u001b[38;5;124;43m\"\u001b[39;49m\u001b[43m,\u001b[49m\n\u001b[1;32m    218\u001b[0m \u001b[43m        \u001b[49m\u001b[38;5;124;43m\"\u001b[39;49m\u001b[38;5;124;43minferredStructure\u001b[39;49m\u001b[38;5;124;43m\"\u001b[39;49m\u001b[43m,\u001b[49m\n\u001b[1;32m    219\u001b[0m \u001b[43m        \u001b[49m\u001b[38;5;124;43m\"\u001b[39;49m\u001b[38;5;124;43mtheo_mwMonoisotopic\u001b[39;49m\u001b[38;5;124;43m\"\u001b[39;49m\u001b[43m,\u001b[49m\n\u001b[1;32m    220\u001b[0m \u001b[43m    \u001b[49m\u001b[43m]\u001b[49m\n\u001b[1;32m    221\u001b[0m \u001b[43m\u001b[49m\u001b[43m]\u001b[49m\n\u001b[1;32m    222\u001b[0m \u001b[38;5;66;03m# Desired column order\u001b[39;00m\n\u001b[1;32m    223\u001b[0m cols_order \u001b[38;5;241m=\u001b[39m [\n\u001b[1;32m    224\u001b[0m     \u001b[38;5;124m\"\u001b[39m\u001b[38;5;124mID\u001b[39m\u001b[38;5;124m\"\u001b[39m,\n\u001b[1;32m    225\u001b[0m     \u001b[38;5;124m\"\u001b[39m\u001b[38;5;124mrt\u001b[39m\u001b[38;5;124m\"\u001b[39m,\n\u001b[0;32m   (...)\u001b[0m\n\u001b[1;32m    230\u001b[0m     \u001b[38;5;124m\"\u001b[39m\u001b[38;5;124mmaxIntensity\u001b[39m\u001b[38;5;124m\"\u001b[39m,\n\u001b[1;32m    231\u001b[0m ]\n",
      "File \u001b[0;32m~/.virtualenvs/pgfinder/lib/python3.10/site-packages/pandas/core/frame.py:3811\u001b[0m, in \u001b[0;36mDataFrame.__getitem__\u001b[0;34m(self, key)\u001b[0m\n\u001b[1;32m   3809\u001b[0m     \u001b[38;5;28;01mif\u001b[39;00m is_iterator(key):\n\u001b[1;32m   3810\u001b[0m         key \u001b[38;5;241m=\u001b[39m \u001b[38;5;28mlist\u001b[39m(key)\n\u001b[0;32m-> 3811\u001b[0m     indexer \u001b[38;5;241m=\u001b[39m \u001b[38;5;28;43mself\u001b[39;49m\u001b[38;5;241;43m.\u001b[39;49m\u001b[43mcolumns\u001b[49m\u001b[38;5;241;43m.\u001b[39;49m\u001b[43m_get_indexer_strict\u001b[49m\u001b[43m(\u001b[49m\u001b[43mkey\u001b[49m\u001b[43m,\u001b[49m\u001b[43m \u001b[49m\u001b[38;5;124;43m\"\u001b[39;49m\u001b[38;5;124;43mcolumns\u001b[39;49m\u001b[38;5;124;43m\"\u001b[39;49m\u001b[43m)\u001b[49m[\u001b[38;5;241m1\u001b[39m]\n\u001b[1;32m   3813\u001b[0m \u001b[38;5;66;03m# take() does not accept boolean indexers\u001b[39;00m\n\u001b[1;32m   3814\u001b[0m \u001b[38;5;28;01mif\u001b[39;00m \u001b[38;5;28mgetattr\u001b[39m(indexer, \u001b[38;5;124m\"\u001b[39m\u001b[38;5;124mdtype\u001b[39m\u001b[38;5;124m\"\u001b[39m, \u001b[38;5;28;01mNone\u001b[39;00m) \u001b[38;5;241m==\u001b[39m \u001b[38;5;28mbool\u001b[39m:\n",
      "File \u001b[0;32m~/.virtualenvs/pgfinder/lib/python3.10/site-packages/pandas/core/indexes/base.py:6108\u001b[0m, in \u001b[0;36mIndex._get_indexer_strict\u001b[0;34m(self, key, axis_name)\u001b[0m\n\u001b[1;32m   6105\u001b[0m \u001b[38;5;28;01melse\u001b[39;00m:\n\u001b[1;32m   6106\u001b[0m     keyarr, indexer, new_indexer \u001b[38;5;241m=\u001b[39m \u001b[38;5;28mself\u001b[39m\u001b[38;5;241m.\u001b[39m_reindex_non_unique(keyarr)\n\u001b[0;32m-> 6108\u001b[0m \u001b[38;5;28;43mself\u001b[39;49m\u001b[38;5;241;43m.\u001b[39;49m\u001b[43m_raise_if_missing\u001b[49m\u001b[43m(\u001b[49m\u001b[43mkeyarr\u001b[49m\u001b[43m,\u001b[49m\u001b[43m \u001b[49m\u001b[43mindexer\u001b[49m\u001b[43m,\u001b[49m\u001b[43m \u001b[49m\u001b[43maxis_name\u001b[49m\u001b[43m)\u001b[49m\n\u001b[1;32m   6110\u001b[0m keyarr \u001b[38;5;241m=\u001b[39m \u001b[38;5;28mself\u001b[39m\u001b[38;5;241m.\u001b[39mtake(indexer)\n\u001b[1;32m   6111\u001b[0m \u001b[38;5;28;01mif\u001b[39;00m \u001b[38;5;28misinstance\u001b[39m(key, Index):\n\u001b[1;32m   6112\u001b[0m     \u001b[38;5;66;03m# GH 42790 - Preserve name from an Index\u001b[39;00m\n",
      "File \u001b[0;32m~/.virtualenvs/pgfinder/lib/python3.10/site-packages/pandas/core/indexes/base.py:6171\u001b[0m, in \u001b[0;36mIndex._raise_if_missing\u001b[0;34m(self, key, indexer, axis_name)\u001b[0m\n\u001b[1;32m   6168\u001b[0m     \u001b[38;5;28;01mraise\u001b[39;00m \u001b[38;5;167;01mKeyError\u001b[39;00m(\u001b[38;5;124mf\u001b[39m\u001b[38;5;124m\"\u001b[39m\u001b[38;5;124mNone of [\u001b[39m\u001b[38;5;132;01m{\u001b[39;00mkey\u001b[38;5;132;01m}\u001b[39;00m\u001b[38;5;124m] are in the [\u001b[39m\u001b[38;5;132;01m{\u001b[39;00maxis_name\u001b[38;5;132;01m}\u001b[39;00m\u001b[38;5;124m]\u001b[39m\u001b[38;5;124m\"\u001b[39m)\n\u001b[1;32m   6170\u001b[0m not_found \u001b[38;5;241m=\u001b[39m \u001b[38;5;28mlist\u001b[39m(ensure_index(key)[missing_mask\u001b[38;5;241m.\u001b[39mnonzero()[\u001b[38;5;241m0\u001b[39m]]\u001b[38;5;241m.\u001b[39munique())\n\u001b[0;32m-> 6171\u001b[0m \u001b[38;5;28;01mraise\u001b[39;00m \u001b[38;5;167;01mKeyError\u001b[39;00m(\u001b[38;5;124mf\u001b[39m\u001b[38;5;124m\"\u001b[39m\u001b[38;5;132;01m{\u001b[39;00mnot_found\u001b[38;5;132;01m}\u001b[39;00m\u001b[38;5;124m not in index\u001b[39m\u001b[38;5;124m\"\u001b[39m)\n",
      "\u001b[0;31mKeyError\u001b[0m: \"['mwMonoisotopic', 'rt', 'rt_length', 'maxIntensity'] not in index\""
     ]
    }
   ],
   "source": [
    "display(button)"
   ]
  }
 ],
 "metadata": {
  "hide_code_all_hidden": true,
  "kernelspec": {
   "display_name": "Python 3 (ipykernel)",
   "language": "python",
   "name": "python3"
  },
  "language_info": {
   "codemirror_mode": {
    "name": "ipython",
    "version": 3
   },
   "file_extension": ".py",
   "mimetype": "text/x-python",
   "name": "python",
   "nbconvert_exporter": "python",
   "pygments_lexer": "ipython3",
   "version": "3.10.10"
  }
 },
 "nbformat": 4,
 "nbformat_minor": 2
}
